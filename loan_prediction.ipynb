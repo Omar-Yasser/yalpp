{
  "cells": [
    {
      "cell_type": "code",
      "execution_count": 1,
      "metadata": {
        "id": "zdpaf_xVhHW5"
      },
      "outputs": [],
      "source": [
        "import pandas as pd\n",
        "import matplotlib.pyplot as plt\n",
        "from sklearn.model_selection import train_test_split\n",
        "from sklearn.preprocessing import MinMaxScaler\n",
        "from sklearn.decomposition import PCA\n",
        "from sklearn import svm\n",
        "from sklearn.metrics import classification_report, confusion_matrix, mean_squared_error\n",
        "from sklearn.linear_model import LogisticRegression\n",
        "from sklearn.tree import DecisionTreeClassifier, plot_tree\n",
        "from sklearn.ensemble import RandomForestClassifier\n",
        "from sklearn.naive_bayes import BernoulliNB\n",
        "from sklearn.neighbors import KNeighborsClassifier\n"
      ]
    },
    {
      "cell_type": "code",
      "execution_count": 2,
      "metadata": {
        "colab": {
          "base_uri": "https://localhost:8080/",
          "height": 206
        },
        "id": "RvqvxddChKsq",
        "outputId": "0749042f-e8d2-4076-97d7-5b80138e6e55"
      },
      "outputs": [
        {
          "data": {
            "text/html": [
              "<div>\n",
              "<style scoped>\n",
              "    .dataframe tbody tr th:only-of-type {\n",
              "        vertical-align: middle;\n",
              "    }\n",
              "\n",
              "    .dataframe tbody tr th {\n",
              "        vertical-align: top;\n",
              "    }\n",
              "\n",
              "    .dataframe thead th {\n",
              "        text-align: right;\n",
              "    }\n",
              "</style>\n",
              "<table border=\"1\" class=\"dataframe\">\n",
              "  <thead>\n",
              "    <tr style=\"text-align: right;\">\n",
              "      <th></th>\n",
              "      <th>Loan_ID</th>\n",
              "      <th>Gender</th>\n",
              "      <th>Married</th>\n",
              "      <th>Dependents</th>\n",
              "      <th>Education</th>\n",
              "      <th>Self_Employed</th>\n",
              "      <th>ApplicantIncome</th>\n",
              "      <th>CoapplicantIncome</th>\n",
              "      <th>LoanAmount</th>\n",
              "      <th>Loan_Amount_Term</th>\n",
              "      <th>Credit_History</th>\n",
              "      <th>Property_Area</th>\n",
              "      <th>Loan_Status</th>\n",
              "    </tr>\n",
              "  </thead>\n",
              "  <tbody>\n",
              "    <tr>\n",
              "      <th>0</th>\n",
              "      <td>LP001002</td>\n",
              "      <td>Male</td>\n",
              "      <td>No</td>\n",
              "      <td>0</td>\n",
              "      <td>Graduate</td>\n",
              "      <td>No</td>\n",
              "      <td>5849</td>\n",
              "      <td>0.0</td>\n",
              "      <td>NaN</td>\n",
              "      <td>360.0</td>\n",
              "      <td>1.0</td>\n",
              "      <td>Urban</td>\n",
              "      <td>Y</td>\n",
              "    </tr>\n",
              "    <tr>\n",
              "      <th>1</th>\n",
              "      <td>LP001003</td>\n",
              "      <td>Male</td>\n",
              "      <td>Yes</td>\n",
              "      <td>1</td>\n",
              "      <td>Graduate</td>\n",
              "      <td>No</td>\n",
              "      <td>4583</td>\n",
              "      <td>1508.0</td>\n",
              "      <td>128.0</td>\n",
              "      <td>360.0</td>\n",
              "      <td>1.0</td>\n",
              "      <td>Rural</td>\n",
              "      <td>N</td>\n",
              "    </tr>\n",
              "    <tr>\n",
              "      <th>2</th>\n",
              "      <td>LP001005</td>\n",
              "      <td>Male</td>\n",
              "      <td>Yes</td>\n",
              "      <td>0</td>\n",
              "      <td>Graduate</td>\n",
              "      <td>Yes</td>\n",
              "      <td>3000</td>\n",
              "      <td>0.0</td>\n",
              "      <td>66.0</td>\n",
              "      <td>360.0</td>\n",
              "      <td>1.0</td>\n",
              "      <td>Urban</td>\n",
              "      <td>Y</td>\n",
              "    </tr>\n",
              "    <tr>\n",
              "      <th>3</th>\n",
              "      <td>LP001006</td>\n",
              "      <td>Male</td>\n",
              "      <td>Yes</td>\n",
              "      <td>0</td>\n",
              "      <td>Not Graduate</td>\n",
              "      <td>No</td>\n",
              "      <td>2583</td>\n",
              "      <td>2358.0</td>\n",
              "      <td>120.0</td>\n",
              "      <td>360.0</td>\n",
              "      <td>1.0</td>\n",
              "      <td>Urban</td>\n",
              "      <td>Y</td>\n",
              "    </tr>\n",
              "    <tr>\n",
              "      <th>4</th>\n",
              "      <td>LP001008</td>\n",
              "      <td>Male</td>\n",
              "      <td>No</td>\n",
              "      <td>0</td>\n",
              "      <td>Graduate</td>\n",
              "      <td>No</td>\n",
              "      <td>6000</td>\n",
              "      <td>0.0</td>\n",
              "      <td>141.0</td>\n",
              "      <td>360.0</td>\n",
              "      <td>1.0</td>\n",
              "      <td>Urban</td>\n",
              "      <td>Y</td>\n",
              "    </tr>\n",
              "  </tbody>\n",
              "</table>\n",
              "</div>"
            ],
            "text/plain": [
              "    Loan_ID Gender Married Dependents     Education Self_Employed  \\\n",
              "0  LP001002   Male      No          0      Graduate            No   \n",
              "1  LP001003   Male     Yes          1      Graduate            No   \n",
              "2  LP001005   Male     Yes          0      Graduate           Yes   \n",
              "3  LP001006   Male     Yes          0  Not Graduate            No   \n",
              "4  LP001008   Male      No          0      Graduate            No   \n",
              "\n",
              "   ApplicantIncome  CoapplicantIncome  LoanAmount  Loan_Amount_Term  \\\n",
              "0             5849                0.0         NaN             360.0   \n",
              "1             4583             1508.0       128.0             360.0   \n",
              "2             3000                0.0        66.0             360.0   \n",
              "3             2583             2358.0       120.0             360.0   \n",
              "4             6000                0.0       141.0             360.0   \n",
              "\n",
              "   Credit_History Property_Area Loan_Status  \n",
              "0             1.0         Urban           Y  \n",
              "1             1.0         Rural           N  \n",
              "2             1.0         Urban           Y  \n",
              "3             1.0         Urban           Y  \n",
              "4             1.0         Urban           Y  "
            ]
          },
          "execution_count": 2,
          "metadata": {},
          "output_type": "execute_result"
        }
      ],
      "source": [
        "data = pd.read_csv(\"loan_data.csv\")\n",
        "data.head()\n"
      ]
    },
    {
      "cell_type": "code",
      "execution_count": 3,
      "metadata": {
        "colab": {
          "base_uri": "https://localhost:8080/"
        },
        "id": "pE_ZcY09hKji",
        "outputId": "59a402ed-4901-4875-d3ef-52560bc1753a"
      },
      "outputs": [
        {
          "name": "stdout",
          "output_type": "stream",
          "text": [
            "<class 'pandas.core.frame.DataFrame'>\n",
            "RangeIndex: 614 entries, 0 to 613\n",
            "Data columns (total 13 columns):\n",
            " #   Column             Non-Null Count  Dtype  \n",
            "---  ------             --------------  -----  \n",
            " 0   Loan_ID            614 non-null    object \n",
            " 1   Gender             601 non-null    object \n",
            " 2   Married            611 non-null    object \n",
            " 3   Dependents         599 non-null    object \n",
            " 4   Education          614 non-null    object \n",
            " 5   Self_Employed      582 non-null    object \n",
            " 6   ApplicantIncome    614 non-null    int64  \n",
            " 7   CoapplicantIncome  614 non-null    float64\n",
            " 8   LoanAmount         592 non-null    float64\n",
            " 9   Loan_Amount_Term   600 non-null    float64\n",
            " 10  Credit_History     564 non-null    float64\n",
            " 11  Property_Area      614 non-null    object \n",
            " 12  Loan_Status        614 non-null    object \n",
            "dtypes: float64(4), int64(1), object(8)\n",
            "memory usage: 62.5+ KB\n"
          ]
        }
      ],
      "source": [
        "data.info()\n"
      ]
    },
    {
      "cell_type": "code",
      "execution_count": 4,
      "metadata": {
        "colab": {
          "base_uri": "https://localhost:8080/"
        },
        "id": "NTkYCUUlhKZz",
        "outputId": "e2a54275-35be-4cdc-8815-d1e83ba9d409"
      },
      "outputs": [
        {
          "name": "stdout",
          "output_type": "stream",
          "text": [
            "Male      489\n",
            "Female    112\n",
            "Name: Gender, dtype: int64 \n",
            "\n",
            "Yes    398\n",
            "No     213\n",
            "Name: Married, dtype: int64 \n",
            "\n",
            "0     345\n",
            "1     102\n",
            "2     101\n",
            "3+     51\n",
            "Name: Dependents, dtype: int64 \n",
            "\n",
            "Graduate        480\n",
            "Not Graduate    134\n",
            "Name: Education, dtype: int64 \n",
            "\n",
            "No     500\n",
            "Yes     82\n",
            "Name: Self_Employed, dtype: int64 \n",
            "\n",
            "Semiurban    233\n",
            "Urban        202\n",
            "Rural        179\n",
            "Name: Property_Area, dtype: int64 \n",
            "\n",
            "Y    422\n",
            "N    192\n",
            "Name: Loan_Status, dtype: int64\n"
          ]
        }
      ],
      "source": [
        "print(data['Gender'].value_counts(), '\\n')\n",
        "print(data['Married'].value_counts(), '\\n')\n",
        "print(data['Dependents'].value_counts(), '\\n')\n",
        "print(data['Education'].value_counts(), '\\n')\n",
        "print(data['Self_Employed'].value_counts(), '\\n')\n",
        "print(data['Property_Area'].value_counts(), '\\n')\n",
        "print(data['Loan_Status'].value_counts())\n"
      ]
    },
    {
      "cell_type": "markdown",
      "metadata": {
        "id": "DhhQmhlw-k_M"
      },
      "source": [
        "# Preprocessing"
      ]
    },
    {
      "cell_type": "code",
      "execution_count": 5,
      "metadata": {
        "id": "WuG5YLZ3hKM3"
      },
      "outputs": [],
      "source": [
        "data['Gender'] = data['Gender'].replace(['Female', 'Male'], [0, 1])\n",
        "data['Married'] = data['Married'].replace(['No', 'Yes'], [0, 1])\n",
        "data['Dependents'] = data['Dependents'].replace(['0', '1', '2', '3+'], [0, 1, 2, 3])\n",
        "data['Education'] = data['Education'].replace(['Not Graduate', 'Graduate'], [0, 1])\n",
        "data['Self_Employed'] = data['Self_Employed'].replace(['No', 'Yes'], [0, 1])\n",
        "data['Property_Area'] = data['Property_Area'].replace(['Rural', 'Semiurban', 'Urban'], [1, 2, 3])\n",
        "data['Loan_Status'] = data['Loan_Status'].replace(['N', 'Y'], [0, 1])\n"
      ]
    },
    {
      "cell_type": "code",
      "execution_count": 6,
      "metadata": {
        "colab": {
          "base_uri": "https://localhost:8080/",
          "height": 206
        },
        "id": "yjK7tp5TGy0-",
        "outputId": "fe22c0ea-ee0e-4bf5-85db-7971cdc165fb"
      },
      "outputs": [
        {
          "data": {
            "text/html": [
              "<div>\n",
              "<style scoped>\n",
              "    .dataframe tbody tr th:only-of-type {\n",
              "        vertical-align: middle;\n",
              "    }\n",
              "\n",
              "    .dataframe tbody tr th {\n",
              "        vertical-align: top;\n",
              "    }\n",
              "\n",
              "    .dataframe thead th {\n",
              "        text-align: right;\n",
              "    }\n",
              "</style>\n",
              "<table border=\"1\" class=\"dataframe\">\n",
              "  <thead>\n",
              "    <tr style=\"text-align: right;\">\n",
              "      <th></th>\n",
              "      <th>Loan_ID</th>\n",
              "      <th>Gender</th>\n",
              "      <th>Married</th>\n",
              "      <th>Dependents</th>\n",
              "      <th>Education</th>\n",
              "      <th>Self_Employed</th>\n",
              "      <th>ApplicantIncome</th>\n",
              "      <th>CoapplicantIncome</th>\n",
              "      <th>LoanAmount</th>\n",
              "      <th>Loan_Amount_Term</th>\n",
              "      <th>Credit_History</th>\n",
              "      <th>Property_Area</th>\n",
              "      <th>Loan_Status</th>\n",
              "    </tr>\n",
              "  </thead>\n",
              "  <tbody>\n",
              "    <tr>\n",
              "      <th>0</th>\n",
              "      <td>LP001002</td>\n",
              "      <td>1.0</td>\n",
              "      <td>0.0</td>\n",
              "      <td>0.0</td>\n",
              "      <td>1</td>\n",
              "      <td>0.0</td>\n",
              "      <td>5849</td>\n",
              "      <td>0.0</td>\n",
              "      <td>NaN</td>\n",
              "      <td>360.0</td>\n",
              "      <td>1.0</td>\n",
              "      <td>3</td>\n",
              "      <td>1</td>\n",
              "    </tr>\n",
              "    <tr>\n",
              "      <th>1</th>\n",
              "      <td>LP001003</td>\n",
              "      <td>1.0</td>\n",
              "      <td>1.0</td>\n",
              "      <td>1.0</td>\n",
              "      <td>1</td>\n",
              "      <td>0.0</td>\n",
              "      <td>4583</td>\n",
              "      <td>1508.0</td>\n",
              "      <td>128.0</td>\n",
              "      <td>360.0</td>\n",
              "      <td>1.0</td>\n",
              "      <td>1</td>\n",
              "      <td>0</td>\n",
              "    </tr>\n",
              "    <tr>\n",
              "      <th>2</th>\n",
              "      <td>LP001005</td>\n",
              "      <td>1.0</td>\n",
              "      <td>1.0</td>\n",
              "      <td>0.0</td>\n",
              "      <td>1</td>\n",
              "      <td>1.0</td>\n",
              "      <td>3000</td>\n",
              "      <td>0.0</td>\n",
              "      <td>66.0</td>\n",
              "      <td>360.0</td>\n",
              "      <td>1.0</td>\n",
              "      <td>3</td>\n",
              "      <td>1</td>\n",
              "    </tr>\n",
              "    <tr>\n",
              "      <th>3</th>\n",
              "      <td>LP001006</td>\n",
              "      <td>1.0</td>\n",
              "      <td>1.0</td>\n",
              "      <td>0.0</td>\n",
              "      <td>0</td>\n",
              "      <td>0.0</td>\n",
              "      <td>2583</td>\n",
              "      <td>2358.0</td>\n",
              "      <td>120.0</td>\n",
              "      <td>360.0</td>\n",
              "      <td>1.0</td>\n",
              "      <td>3</td>\n",
              "      <td>1</td>\n",
              "    </tr>\n",
              "    <tr>\n",
              "      <th>4</th>\n",
              "      <td>LP001008</td>\n",
              "      <td>1.0</td>\n",
              "      <td>0.0</td>\n",
              "      <td>0.0</td>\n",
              "      <td>1</td>\n",
              "      <td>0.0</td>\n",
              "      <td>6000</td>\n",
              "      <td>0.0</td>\n",
              "      <td>141.0</td>\n",
              "      <td>360.0</td>\n",
              "      <td>1.0</td>\n",
              "      <td>3</td>\n",
              "      <td>1</td>\n",
              "    </tr>\n",
              "  </tbody>\n",
              "</table>\n",
              "</div>"
            ],
            "text/plain": [
              "    Loan_ID  Gender  Married  Dependents  Education  Self_Employed  \\\n",
              "0  LP001002     1.0      0.0         0.0          1            0.0   \n",
              "1  LP001003     1.0      1.0         1.0          1            0.0   \n",
              "2  LP001005     1.0      1.0         0.0          1            1.0   \n",
              "3  LP001006     1.0      1.0         0.0          0            0.0   \n",
              "4  LP001008     1.0      0.0         0.0          1            0.0   \n",
              "\n",
              "   ApplicantIncome  CoapplicantIncome  LoanAmount  Loan_Amount_Term  \\\n",
              "0             5849                0.0         NaN             360.0   \n",
              "1             4583             1508.0       128.0             360.0   \n",
              "2             3000                0.0        66.0             360.0   \n",
              "3             2583             2358.0       120.0             360.0   \n",
              "4             6000                0.0       141.0             360.0   \n",
              "\n",
              "   Credit_History  Property_Area  Loan_Status  \n",
              "0             1.0              3            1  \n",
              "1             1.0              1            0  \n",
              "2             1.0              3            1  \n",
              "3             1.0              3            1  \n",
              "4             1.0              3            1  "
            ]
          },
          "execution_count": 6,
          "metadata": {},
          "output_type": "execute_result"
        }
      ],
      "source": [
        "data.head()\n"
      ]
    },
    {
      "cell_type": "code",
      "execution_count": 7,
      "metadata": {
        "colab": {
          "base_uri": "https://localhost:8080/",
          "height": 300
        },
        "id": "R776QYlhhgDd",
        "outputId": "475d43f1-0a14-459f-ff00-80afa17fef2f"
      },
      "outputs": [
        {
          "data": {
            "text/html": [
              "<div>\n",
              "<style scoped>\n",
              "    .dataframe tbody tr th:only-of-type {\n",
              "        vertical-align: middle;\n",
              "    }\n",
              "\n",
              "    .dataframe tbody tr th {\n",
              "        vertical-align: top;\n",
              "    }\n",
              "\n",
              "    .dataframe thead th {\n",
              "        text-align: right;\n",
              "    }\n",
              "</style>\n",
              "<table border=\"1\" class=\"dataframe\">\n",
              "  <thead>\n",
              "    <tr style=\"text-align: right;\">\n",
              "      <th></th>\n",
              "      <th>Gender</th>\n",
              "      <th>Married</th>\n",
              "      <th>Dependents</th>\n",
              "      <th>Education</th>\n",
              "      <th>Self_Employed</th>\n",
              "      <th>ApplicantIncome</th>\n",
              "      <th>CoapplicantIncome</th>\n",
              "      <th>LoanAmount</th>\n",
              "      <th>Loan_Amount_Term</th>\n",
              "      <th>Credit_History</th>\n",
              "      <th>Property_Area</th>\n",
              "      <th>Loan_Status</th>\n",
              "    </tr>\n",
              "  </thead>\n",
              "  <tbody>\n",
              "    <tr>\n",
              "      <th>count</th>\n",
              "      <td>601.000000</td>\n",
              "      <td>611.000000</td>\n",
              "      <td>599.000000</td>\n",
              "      <td>614.000000</td>\n",
              "      <td>582.000000</td>\n",
              "      <td>614.000000</td>\n",
              "      <td>614.000000</td>\n",
              "      <td>592.000000</td>\n",
              "      <td>600.00000</td>\n",
              "      <td>564.000000</td>\n",
              "      <td>614.000000</td>\n",
              "      <td>614.000000</td>\n",
              "    </tr>\n",
              "    <tr>\n",
              "      <th>mean</th>\n",
              "      <td>0.813644</td>\n",
              "      <td>0.651391</td>\n",
              "      <td>0.762938</td>\n",
              "      <td>0.781759</td>\n",
              "      <td>0.140893</td>\n",
              "      <td>5403.459283</td>\n",
              "      <td>1621.245798</td>\n",
              "      <td>146.412162</td>\n",
              "      <td>342.00000</td>\n",
              "      <td>0.842199</td>\n",
              "      <td>2.037459</td>\n",
              "      <td>0.687296</td>\n",
              "    </tr>\n",
              "    <tr>\n",
              "      <th>std</th>\n",
              "      <td>0.389718</td>\n",
              "      <td>0.476920</td>\n",
              "      <td>1.015216</td>\n",
              "      <td>0.413389</td>\n",
              "      <td>0.348211</td>\n",
              "      <td>6109.041673</td>\n",
              "      <td>2926.248369</td>\n",
              "      <td>85.587325</td>\n",
              "      <td>65.12041</td>\n",
              "      <td>0.364878</td>\n",
              "      <td>0.787482</td>\n",
              "      <td>0.463973</td>\n",
              "    </tr>\n",
              "    <tr>\n",
              "      <th>min</th>\n",
              "      <td>0.000000</td>\n",
              "      <td>0.000000</td>\n",
              "      <td>0.000000</td>\n",
              "      <td>0.000000</td>\n",
              "      <td>0.000000</td>\n",
              "      <td>150.000000</td>\n",
              "      <td>0.000000</td>\n",
              "      <td>9.000000</td>\n",
              "      <td>12.00000</td>\n",
              "      <td>0.000000</td>\n",
              "      <td>1.000000</td>\n",
              "      <td>0.000000</td>\n",
              "    </tr>\n",
              "    <tr>\n",
              "      <th>25%</th>\n",
              "      <td>1.000000</td>\n",
              "      <td>0.000000</td>\n",
              "      <td>0.000000</td>\n",
              "      <td>1.000000</td>\n",
              "      <td>0.000000</td>\n",
              "      <td>2877.500000</td>\n",
              "      <td>0.000000</td>\n",
              "      <td>100.000000</td>\n",
              "      <td>360.00000</td>\n",
              "      <td>1.000000</td>\n",
              "      <td>1.000000</td>\n",
              "      <td>0.000000</td>\n",
              "    </tr>\n",
              "    <tr>\n",
              "      <th>50%</th>\n",
              "      <td>1.000000</td>\n",
              "      <td>1.000000</td>\n",
              "      <td>0.000000</td>\n",
              "      <td>1.000000</td>\n",
              "      <td>0.000000</td>\n",
              "      <td>3812.500000</td>\n",
              "      <td>1188.500000</td>\n",
              "      <td>128.000000</td>\n",
              "      <td>360.00000</td>\n",
              "      <td>1.000000</td>\n",
              "      <td>2.000000</td>\n",
              "      <td>1.000000</td>\n",
              "    </tr>\n",
              "    <tr>\n",
              "      <th>75%</th>\n",
              "      <td>1.000000</td>\n",
              "      <td>1.000000</td>\n",
              "      <td>2.000000</td>\n",
              "      <td>1.000000</td>\n",
              "      <td>0.000000</td>\n",
              "      <td>5795.000000</td>\n",
              "      <td>2297.250000</td>\n",
              "      <td>168.000000</td>\n",
              "      <td>360.00000</td>\n",
              "      <td>1.000000</td>\n",
              "      <td>3.000000</td>\n",
              "      <td>1.000000</td>\n",
              "    </tr>\n",
              "    <tr>\n",
              "      <th>max</th>\n",
              "      <td>1.000000</td>\n",
              "      <td>1.000000</td>\n",
              "      <td>3.000000</td>\n",
              "      <td>1.000000</td>\n",
              "      <td>1.000000</td>\n",
              "      <td>81000.000000</td>\n",
              "      <td>41667.000000</td>\n",
              "      <td>700.000000</td>\n",
              "      <td>480.00000</td>\n",
              "      <td>1.000000</td>\n",
              "      <td>3.000000</td>\n",
              "      <td>1.000000</td>\n",
              "    </tr>\n",
              "  </tbody>\n",
              "</table>\n",
              "</div>"
            ],
            "text/plain": [
              "           Gender     Married  Dependents   Education  Self_Employed  \\\n",
              "count  601.000000  611.000000  599.000000  614.000000     582.000000   \n",
              "mean     0.813644    0.651391    0.762938    0.781759       0.140893   \n",
              "std      0.389718    0.476920    1.015216    0.413389       0.348211   \n",
              "min      0.000000    0.000000    0.000000    0.000000       0.000000   \n",
              "25%      1.000000    0.000000    0.000000    1.000000       0.000000   \n",
              "50%      1.000000    1.000000    0.000000    1.000000       0.000000   \n",
              "75%      1.000000    1.000000    2.000000    1.000000       0.000000   \n",
              "max      1.000000    1.000000    3.000000    1.000000       1.000000   \n",
              "\n",
              "       ApplicantIncome  CoapplicantIncome  LoanAmount  Loan_Amount_Term  \\\n",
              "count       614.000000         614.000000  592.000000         600.00000   \n",
              "mean       5403.459283        1621.245798  146.412162         342.00000   \n",
              "std        6109.041673        2926.248369   85.587325          65.12041   \n",
              "min         150.000000           0.000000    9.000000          12.00000   \n",
              "25%        2877.500000           0.000000  100.000000         360.00000   \n",
              "50%        3812.500000        1188.500000  128.000000         360.00000   \n",
              "75%        5795.000000        2297.250000  168.000000         360.00000   \n",
              "max       81000.000000       41667.000000  700.000000         480.00000   \n",
              "\n",
              "       Credit_History  Property_Area  Loan_Status  \n",
              "count      564.000000     614.000000   614.000000  \n",
              "mean         0.842199       2.037459     0.687296  \n",
              "std          0.364878       0.787482     0.463973  \n",
              "min          0.000000       1.000000     0.000000  \n",
              "25%          1.000000       1.000000     0.000000  \n",
              "50%          1.000000       2.000000     1.000000  \n",
              "75%          1.000000       3.000000     1.000000  \n",
              "max          1.000000       3.000000     1.000000  "
            ]
          },
          "execution_count": 7,
          "metadata": {},
          "output_type": "execute_result"
        }
      ],
      "source": [
        "data.describe()\n"
      ]
    },
    {
      "cell_type": "markdown",
      "metadata": {
        "id": "YW6D_6-m-7Te"
      },
      "source": [
        "Correlation Matrix"
      ]
    },
    {
      "cell_type": "code",
      "execution_count": 8,
      "metadata": {
        "colab": {
          "base_uri": "https://localhost:8080/",
          "height": 331
        },
        "id": "XBy4LP3Zhf4J",
        "outputId": "a2b0f289-7872-48fa-e1c1-ec43a8a2281f"
      },
      "outputs": [
        {
          "data": {
            "text/html": [
              "<style type=\"text/css\">\n",
              "#T_6de11_row0_col0, #T_6de11_row1_col1, #T_6de11_row2_col2, #T_6de11_row3_col3, #T_6de11_row4_col4, #T_6de11_row5_col5, #T_6de11_row6_col6, #T_6de11_row7_col7, #T_6de11_row8_col8, #T_6de11_row9_col9, #T_6de11_row10_col10, #T_6de11_row11_col11 {\n",
              "  background-color: #b40426;\n",
              "  color: #f1f1f1;\n",
              "}\n",
              "#T_6de11_row0_col1 {\n",
              "  background-color: #c9d7f0;\n",
              "  color: #000000;\n",
              "}\n",
              "#T_6de11_row0_col2 {\n",
              "  background-color: #8db0fe;\n",
              "  color: #000000;\n",
              "}\n",
              "#T_6de11_row0_col3, #T_6de11_row11_col7 {\n",
              "  background-color: #3d50c3;\n",
              "  color: #f1f1f1;\n",
              "}\n",
              "#T_6de11_row0_col4, #T_6de11_row0_col8, #T_6de11_row3_col0, #T_6de11_row6_col4 {\n",
              "  background-color: #4257c9;\n",
              "  color: #f1f1f1;\n",
              "}\n",
              "#T_6de11_row0_col5, #T_6de11_row7_col4 {\n",
              "  background-color: #6b8df0;\n",
              "  color: #f1f1f1;\n",
              "}\n",
              "#T_6de11_row0_col6 {\n",
              "  background-color: #7396f5;\n",
              "  color: #f1f1f1;\n",
              "}\n",
              "#T_6de11_row0_col7, #T_6de11_row6_col0 {\n",
              "  background-color: #688aef;\n",
              "  color: #f1f1f1;\n",
              "}\n",
              "#T_6de11_row0_col9, #T_6de11_row5_col10, #T_6de11_row8_col5 {\n",
              "  background-color: #4e68d8;\n",
              "  color: #f1f1f1;\n",
              "}\n",
              "#T_6de11_row0_col10, #T_6de11_row3_col4, #T_6de11_row8_col9, #T_6de11_row10_col0 {\n",
              "  background-color: #4961d2;\n",
              "  color: #f1f1f1;\n",
              "}\n",
              "#T_6de11_row0_col11, #T_6de11_row1_col10, #T_6de11_row11_col8 {\n",
              "  background-color: #516ddb;\n",
              "  color: #f1f1f1;\n",
              "}\n",
              "#T_6de11_row1_col0 {\n",
              "  background-color: #c4d5f3;\n",
              "  color: #000000;\n",
              "}\n",
              "#T_6de11_row1_col2, #T_6de11_row2_col1 {\n",
              "  background-color: #c1d4f4;\n",
              "  color: #000000;\n",
              "}\n",
              "#T_6de11_row1_col3, #T_6de11_row6_col8, #T_6de11_row7_col9, #T_6de11_row9_col4 {\n",
              "  background-color: #465ecf;\n",
              "  color: #f1f1f1;\n",
              "}\n",
              "#T_6de11_row1_col4, #T_6de11_row3_col2, #T_6de11_row8_col11, #T_6de11_row9_col7 {\n",
              "  background-color: #455cce;\n",
              "  color: #f1f1f1;\n",
              "}\n",
              "#T_6de11_row1_col5 {\n",
              "  background-color: #6a8bef;\n",
              "  color: #f1f1f1;\n",
              "}\n",
              "#T_6de11_row1_col6, #T_6de11_row11_col1 {\n",
              "  background-color: #7295f4;\n",
              "  color: #f1f1f1;\n",
              "}\n",
              "#T_6de11_row1_col7 {\n",
              "  background-color: #7699f6;\n",
              "  color: #f1f1f1;\n",
              "}\n",
              "#T_6de11_row1_col8, #T_6de11_row2_col3, #T_6de11_row2_col8, #T_6de11_row2_col9, #T_6de11_row5_col6, #T_6de11_row6_col5, #T_6de11_row6_col11, #T_6de11_row8_col0, #T_6de11_row8_col1, #T_6de11_row8_col2, #T_6de11_row8_col4, #T_6de11_row8_col10, #T_6de11_row10_col7 {\n",
              "  background-color: #3b4cc0;\n",
              "  color: #f1f1f1;\n",
              "}\n",
              "#T_6de11_row1_col9, #T_6de11_row4_col9, #T_6de11_row4_col11, #T_6de11_row5_col8, #T_6de11_row5_col11, #T_6de11_row8_col6, #T_6de11_row11_col6 {\n",
              "  background-color: #4a63d3;\n",
              "  color: #f1f1f1;\n",
              "}\n",
              "#T_6de11_row1_col11, #T_6de11_row3_col11, #T_6de11_row5_col1, #T_6de11_row11_col3 {\n",
              "  background-color: #6687ed;\n",
              "  color: #f1f1f1;\n",
              "}\n",
              "#T_6de11_row2_col0, #T_6de11_row3_col5, #T_6de11_row4_col5 {\n",
              "  background-color: #86a9fc;\n",
              "  color: #f1f1f1;\n",
              "}\n",
              "#T_6de11_row2_col4, #T_6de11_row9_col5 {\n",
              "  background-color: #5673e0;\n",
              "  color: #f1f1f1;\n",
              "}\n",
              "#T_6de11_row2_col5, #T_6de11_row3_col7 {\n",
              "  background-color: #7ea1fa;\n",
              "  color: #f1f1f1;\n",
              "}\n",
              "#T_6de11_row2_col6, #T_6de11_row3_col9 {\n",
              "  background-color: #6282ea;\n",
              "  color: #f1f1f1;\n",
              "}\n",
              "#T_6de11_row2_col7 {\n",
              "  background-color: #7b9ff9;\n",
              "  color: #f1f1f1;\n",
              "}\n",
              "#T_6de11_row2_col10, #T_6de11_row3_col1, #T_6de11_row8_col7 {\n",
              "  background-color: #536edd;\n",
              "  color: #f1f1f1;\n",
              "}\n",
              "#T_6de11_row2_col11, #T_6de11_row4_col0, #T_6de11_row4_col8 {\n",
              "  background-color: #4c66d6;\n",
              "  color: #f1f1f1;\n",
              "}\n",
              "#T_6de11_row3_col6, #T_6de11_row4_col7 {\n",
              "  background-color: #6e90f2;\n",
              "  color: #f1f1f1;\n",
              "}\n",
              "#T_6de11_row3_col8, #T_6de11_row6_col1 {\n",
              "  background-color: #6f92f3;\n",
              "  color: #f1f1f1;\n",
              "}\n",
              "#T_6de11_row3_col10, #T_6de11_row9_col3 {\n",
              "  background-color: #6485ec;\n",
              "  color: #f1f1f1;\n",
              "}\n",
              "#T_6de11_row4_col1, #T_6de11_row4_col6, #T_6de11_row9_col8, #T_6de11_row10_col1, #T_6de11_row10_col2, #T_6de11_row10_col5, #T_6de11_row11_col2 {\n",
              "  background-color: #5875e1;\n",
              "  color: #f1f1f1;\n",
              "}\n",
              "#T_6de11_row4_col2 {\n",
              "  background-color: #6788ee;\n",
              "  color: #f1f1f1;\n",
              "}\n",
              "#T_6de11_row4_col3 {\n",
              "  background-color: #4f69d9;\n",
              "  color: #f1f1f1;\n",
              "}\n",
              "#T_6de11_row4_col10, #T_6de11_row6_col9, #T_6de11_row9_col2, #T_6de11_row10_col9 {\n",
              "  background-color: #485fd1;\n",
              "  color: #f1f1f1;\n",
              "}\n",
              "#T_6de11_row5_col0, #T_6de11_row10_col3 {\n",
              "  background-color: #5f7fe8;\n",
              "  color: #f1f1f1;\n",
              "}\n",
              "#T_6de11_row5_col2 {\n",
              "  background-color: #7a9df8;\n",
              "  color: #f1f1f1;\n",
              "}\n",
              "#T_6de11_row5_col3 {\n",
              "  background-color: #779af7;\n",
              "  color: #f1f1f1;\n",
              "}\n",
              "#T_6de11_row5_col4, #T_6de11_row7_col0 {\n",
              "  background-color: #7093f3;\n",
              "  color: #f1f1f1;\n",
              "}\n",
              "#T_6de11_row5_col7, #T_6de11_row9_col11 {\n",
              "  background-color: #f0cdbb;\n",
              "  color: #000000;\n",
              "}\n",
              "#T_6de11_row5_col9, #T_6de11_row11_col4 {\n",
              "  background-color: #445acc;\n",
              "  color: #f1f1f1;\n",
              "}\n",
              "#T_6de11_row6_col2, #T_6de11_row6_col3, #T_6de11_row10_col6 {\n",
              "  background-color: #5e7de7;\n",
              "  color: #f1f1f1;\n",
              "}\n",
              "#T_6de11_row6_col7 {\n",
              "  background-color: #84a7fc;\n",
              "  color: #f1f1f1;\n",
              "}\n",
              "#T_6de11_row6_col10, #T_6de11_row9_col0 {\n",
              "  background-color: #5470de;\n",
              "  color: #f1f1f1;\n",
              "}\n",
              "#T_6de11_row7_col1 {\n",
              "  background-color: #85a8fc;\n",
              "  color: #f1f1f1;\n",
              "}\n",
              "#T_6de11_row7_col2 {\n",
              "  background-color: #89acfd;\n",
              "  color: #000000;\n",
              "}\n",
              "#T_6de11_row7_col3 {\n",
              "  background-color: #81a4fb;\n",
              "  color: #f1f1f1;\n",
              "}\n",
              "#T_6de11_row7_col5 {\n",
              "  background-color: #f3c7b1;\n",
              "  color: #000000;\n",
              "}\n",
              "#T_6de11_row7_col6 {\n",
              "  background-color: #94b6ff;\n",
              "  color: #000000;\n",
              "}\n",
              "#T_6de11_row7_col8, #T_6de11_row8_col3 {\n",
              "  background-color: #6384eb;\n",
              "  color: #f1f1f1;\n",
              "}\n",
              "#T_6de11_row7_col10 {\n",
              "  background-color: #4358cb;\n",
              "  color: #f1f1f1;\n",
              "}\n",
              "#T_6de11_row7_col11, #T_6de11_row10_col8 {\n",
              "  background-color: #4055c8;\n",
              "  color: #f1f1f1;\n",
              "}\n",
              "#T_6de11_row9_col1, #T_6de11_row11_col5 {\n",
              "  background-color: #5977e3;\n",
              "  color: #f1f1f1;\n",
              "}\n",
              "#T_6de11_row9_col6, #T_6de11_row11_col10 {\n",
              "  background-color: #5a78e4;\n",
              "  color: #f1f1f1;\n",
              "}\n",
              "#T_6de11_row9_col10 {\n",
              "  background-color: #506bda;\n",
              "  color: #f1f1f1;\n",
              "}\n",
              "#T_6de11_row10_col4 {\n",
              "  background-color: #3c4ec2;\n",
              "  color: #f1f1f1;\n",
              "}\n",
              "#T_6de11_row10_col11, #T_6de11_row11_col0 {\n",
              "  background-color: #5572df;\n",
              "  color: #f1f1f1;\n",
              "}\n",
              "#T_6de11_row11_col9 {\n",
              "  background-color: #efcebd;\n",
              "  color: #000000;\n",
              "}\n",
              "</style>\n",
              "<table id=\"T_6de11\">\n",
              "  <thead>\n",
              "    <tr>\n",
              "      <th class=\"blank level0\" >&nbsp;</th>\n",
              "      <th id=\"T_6de11_level0_col0\" class=\"col_heading level0 col0\" >Gender</th>\n",
              "      <th id=\"T_6de11_level0_col1\" class=\"col_heading level0 col1\" >Married</th>\n",
              "      <th id=\"T_6de11_level0_col2\" class=\"col_heading level0 col2\" >Dependents</th>\n",
              "      <th id=\"T_6de11_level0_col3\" class=\"col_heading level0 col3\" >Education</th>\n",
              "      <th id=\"T_6de11_level0_col4\" class=\"col_heading level0 col4\" >Self_Employed</th>\n",
              "      <th id=\"T_6de11_level0_col5\" class=\"col_heading level0 col5\" >ApplicantIncome</th>\n",
              "      <th id=\"T_6de11_level0_col6\" class=\"col_heading level0 col6\" >CoapplicantIncome</th>\n",
              "      <th id=\"T_6de11_level0_col7\" class=\"col_heading level0 col7\" >LoanAmount</th>\n",
              "      <th id=\"T_6de11_level0_col8\" class=\"col_heading level0 col8\" >Loan_Amount_Term</th>\n",
              "      <th id=\"T_6de11_level0_col9\" class=\"col_heading level0 col9\" >Credit_History</th>\n",
              "      <th id=\"T_6de11_level0_col10\" class=\"col_heading level0 col10\" >Property_Area</th>\n",
              "      <th id=\"T_6de11_level0_col11\" class=\"col_heading level0 col11\" >Loan_Status</th>\n",
              "    </tr>\n",
              "  </thead>\n",
              "  <tbody>\n",
              "    <tr>\n",
              "      <th id=\"T_6de11_level0_row0\" class=\"row_heading level0 row0\" >Gender</th>\n",
              "      <td id=\"T_6de11_row0_col0\" class=\"data row0 col0\" >1.00</td>\n",
              "      <td id=\"T_6de11_row0_col1\" class=\"data row0 col1\" >0.37</td>\n",
              "      <td id=\"T_6de11_row0_col2\" class=\"data row0 col2\" >0.18</td>\n",
              "      <td id=\"T_6de11_row0_col3\" class=\"data row0 col3\" >-0.05</td>\n",
              "      <td id=\"T_6de11_row0_col4\" class=\"data row0 col4\" >-0.01</td>\n",
              "      <td id=\"T_6de11_row0_col5\" class=\"data row0 col5\" >0.05</td>\n",
              "      <td id=\"T_6de11_row0_col6\" class=\"data row0 col6\" >0.08</td>\n",
              "      <td id=\"T_6de11_row0_col7\" class=\"data row0 col7\" >0.11</td>\n",
              "      <td id=\"T_6de11_row0_col8\" class=\"data row0 col8\" >-0.08</td>\n",
              "      <td id=\"T_6de11_row0_col9\" class=\"data row0 col9\" >0.02</td>\n",
              "      <td id=\"T_6de11_row0_col10\" class=\"data row0 col10\" >-0.02</td>\n",
              "      <td id=\"T_6de11_row0_col11\" class=\"data row0 col11\" >0.02</td>\n",
              "    </tr>\n",
              "    <tr>\n",
              "      <th id=\"T_6de11_level0_row1\" class=\"row_heading level0 row1\" >Married</th>\n",
              "      <td id=\"T_6de11_row1_col0\" class=\"data row1 col0\" >0.37</td>\n",
              "      <td id=\"T_6de11_row1_col1\" class=\"data row1 col1\" >1.00</td>\n",
              "      <td id=\"T_6de11_row1_col2\" class=\"data row1 col2\" >0.34</td>\n",
              "      <td id=\"T_6de11_row1_col3\" class=\"data row1 col3\" >-0.01</td>\n",
              "      <td id=\"T_6de11_row1_col4\" class=\"data row1 col4\" >0.00</td>\n",
              "      <td id=\"T_6de11_row1_col5\" class=\"data row1 col5\" >0.05</td>\n",
              "      <td id=\"T_6de11_row1_col6\" class=\"data row1 col6\" >0.08</td>\n",
              "      <td id=\"T_6de11_row1_col7\" class=\"data row1 col7\" >0.15</td>\n",
              "      <td id=\"T_6de11_row1_col8\" class=\"data row1 col8\" >-0.10</td>\n",
              "      <td id=\"T_6de11_row1_col9\" class=\"data row1 col9\" >0.00</td>\n",
              "      <td id=\"T_6de11_row1_col10\" class=\"data row1 col10\" >0.00</td>\n",
              "      <td id=\"T_6de11_row1_col11\" class=\"data row1 col11\" >0.09</td>\n",
              "    </tr>\n",
              "    <tr>\n",
              "      <th id=\"T_6de11_level0_row2\" class=\"row_heading level0 row2\" >Dependents</th>\n",
              "      <td id=\"T_6de11_row2_col0\" class=\"data row2 col0\" >0.18</td>\n",
              "      <td id=\"T_6de11_row2_col1\" class=\"data row2 col1\" >0.34</td>\n",
              "      <td id=\"T_6de11_row2_col2\" class=\"data row2 col2\" >1.00</td>\n",
              "      <td id=\"T_6de11_row2_col3\" class=\"data row2 col3\" >-0.06</td>\n",
              "      <td id=\"T_6de11_row2_col4\" class=\"data row2 col4\" >0.06</td>\n",
              "      <td id=\"T_6de11_row2_col5\" class=\"data row2 col5\" >0.12</td>\n",
              "      <td id=\"T_6de11_row2_col6\" class=\"data row2 col6\" >0.03</td>\n",
              "      <td id=\"T_6de11_row2_col7\" class=\"data row2 col7\" >0.16</td>\n",
              "      <td id=\"T_6de11_row2_col8\" class=\"data row2 col8\" >-0.10</td>\n",
              "      <td id=\"T_6de11_row2_col9\" class=\"data row2 col9\" >-0.05</td>\n",
              "      <td id=\"T_6de11_row2_col10\" class=\"data row2 col10\" >0.01</td>\n",
              "      <td id=\"T_6de11_row2_col11\" class=\"data row2 col11\" >0.01</td>\n",
              "    </tr>\n",
              "    <tr>\n",
              "      <th id=\"T_6de11_level0_row3\" class=\"row_heading level0 row3\" >Education</th>\n",
              "      <td id=\"T_6de11_row3_col0\" class=\"data row3 col0\" >-0.05</td>\n",
              "      <td id=\"T_6de11_row3_col1\" class=\"data row3 col1\" >-0.01</td>\n",
              "      <td id=\"T_6de11_row3_col2\" class=\"data row3 col2\" >-0.06</td>\n",
              "      <td id=\"T_6de11_row3_col3\" class=\"data row3 col3\" >1.00</td>\n",
              "      <td id=\"T_6de11_row3_col4\" class=\"data row3 col4\" >0.01</td>\n",
              "      <td id=\"T_6de11_row3_col5\" class=\"data row3 col5\" >0.14</td>\n",
              "      <td id=\"T_6de11_row3_col6\" class=\"data row3 col6\" >0.06</td>\n",
              "      <td id=\"T_6de11_row3_col7\" class=\"data row3 col7\" >0.17</td>\n",
              "      <td id=\"T_6de11_row3_col8\" class=\"data row3 col8\" >0.08</td>\n",
              "      <td id=\"T_6de11_row3_col9\" class=\"data row3 col9\" >0.08</td>\n",
              "      <td id=\"T_6de11_row3_col10\" class=\"data row3 col10\" >0.07</td>\n",
              "      <td id=\"T_6de11_row3_col11\" class=\"data row3 col11\" >0.09</td>\n",
              "    </tr>\n",
              "    <tr>\n",
              "      <th id=\"T_6de11_level0_row4\" class=\"row_heading level0 row4\" >Self_Employed</th>\n",
              "      <td id=\"T_6de11_row4_col0\" class=\"data row4 col0\" >-0.01</td>\n",
              "      <td id=\"T_6de11_row4_col1\" class=\"data row4 col1\" >0.00</td>\n",
              "      <td id=\"T_6de11_row4_col2\" class=\"data row4 col2\" >0.06</td>\n",
              "      <td id=\"T_6de11_row4_col3\" class=\"data row4 col3\" >0.01</td>\n",
              "      <td id=\"T_6de11_row4_col4\" class=\"data row4 col4\" >1.00</td>\n",
              "      <td id=\"T_6de11_row4_col5\" class=\"data row4 col5\" >0.14</td>\n",
              "      <td id=\"T_6de11_row4_col6\" class=\"data row4 col6\" >-0.01</td>\n",
              "      <td id=\"T_6de11_row4_col7\" class=\"data row4 col7\" >0.12</td>\n",
              "      <td id=\"T_6de11_row4_col8\" class=\"data row4 col8\" >-0.04</td>\n",
              "      <td id=\"T_6de11_row4_col9\" class=\"data row4 col9\" >0.00</td>\n",
              "      <td id=\"T_6de11_row4_col10\" class=\"data row4 col10\" >-0.03</td>\n",
              "      <td id=\"T_6de11_row4_col11\" class=\"data row4 col11\" >-0.00</td>\n",
              "    </tr>\n",
              "    <tr>\n",
              "      <th id=\"T_6de11_level0_row5\" class=\"row_heading level0 row5\" >ApplicantIncome</th>\n",
              "      <td id=\"T_6de11_row5_col0\" class=\"data row5 col0\" >0.05</td>\n",
              "      <td id=\"T_6de11_row5_col1\" class=\"data row5 col1\" >0.05</td>\n",
              "      <td id=\"T_6de11_row5_col2\" class=\"data row5 col2\" >0.12</td>\n",
              "      <td id=\"T_6de11_row5_col3\" class=\"data row5 col3\" >0.14</td>\n",
              "      <td id=\"T_6de11_row5_col4\" class=\"data row5 col4\" >0.14</td>\n",
              "      <td id=\"T_6de11_row5_col5\" class=\"data row5 col5\" >1.00</td>\n",
              "      <td id=\"T_6de11_row5_col6\" class=\"data row5 col6\" >-0.12</td>\n",
              "      <td id=\"T_6de11_row5_col7\" class=\"data row5 col7\" >0.57</td>\n",
              "      <td id=\"T_6de11_row5_col8\" class=\"data row5 col8\" >-0.05</td>\n",
              "      <td id=\"T_6de11_row5_col9\" class=\"data row5 col9\" >-0.01</td>\n",
              "      <td id=\"T_6de11_row5_col10\" class=\"data row5 col10\" >-0.01</td>\n",
              "      <td id=\"T_6de11_row5_col11\" class=\"data row5 col11\" >-0.00</td>\n",
              "    </tr>\n",
              "    <tr>\n",
              "      <th id=\"T_6de11_level0_row6\" class=\"row_heading level0 row6\" >CoapplicantIncome</th>\n",
              "      <td id=\"T_6de11_row6_col0\" class=\"data row6 col0\" >0.08</td>\n",
              "      <td id=\"T_6de11_row6_col1\" class=\"data row6 col1\" >0.08</td>\n",
              "      <td id=\"T_6de11_row6_col2\" class=\"data row6 col2\" >0.03</td>\n",
              "      <td id=\"T_6de11_row6_col3\" class=\"data row6 col3\" >0.06</td>\n",
              "      <td id=\"T_6de11_row6_col4\" class=\"data row6 col4\" >-0.01</td>\n",
              "      <td id=\"T_6de11_row6_col5\" class=\"data row6 col5\" >-0.12</td>\n",
              "      <td id=\"T_6de11_row6_col6\" class=\"data row6 col6\" >1.00</td>\n",
              "      <td id=\"T_6de11_row6_col7\" class=\"data row6 col7\" >0.19</td>\n",
              "      <td id=\"T_6de11_row6_col8\" class=\"data row6 col8\" >-0.06</td>\n",
              "      <td id=\"T_6de11_row6_col9\" class=\"data row6 col9\" >-0.00</td>\n",
              "      <td id=\"T_6de11_row6_col10\" class=\"data row6 col10\" >0.01</td>\n",
              "      <td id=\"T_6de11_row6_col11\" class=\"data row6 col11\" >-0.06</td>\n",
              "    </tr>\n",
              "    <tr>\n",
              "      <th id=\"T_6de11_level0_row7\" class=\"row_heading level0 row7\" >LoanAmount</th>\n",
              "      <td id=\"T_6de11_row7_col0\" class=\"data row7 col0\" >0.11</td>\n",
              "      <td id=\"T_6de11_row7_col1\" class=\"data row7 col1\" >0.15</td>\n",
              "      <td id=\"T_6de11_row7_col2\" class=\"data row7 col2\" >0.16</td>\n",
              "      <td id=\"T_6de11_row7_col3\" class=\"data row7 col3\" >0.17</td>\n",
              "      <td id=\"T_6de11_row7_col4\" class=\"data row7 col4\" >0.12</td>\n",
              "      <td id=\"T_6de11_row7_col5\" class=\"data row7 col5\" >0.57</td>\n",
              "      <td id=\"T_6de11_row7_col6\" class=\"data row7 col6\" >0.19</td>\n",
              "      <td id=\"T_6de11_row7_col7\" class=\"data row7 col7\" >1.00</td>\n",
              "      <td id=\"T_6de11_row7_col8\" class=\"data row7 col8\" >0.04</td>\n",
              "      <td id=\"T_6de11_row7_col9\" class=\"data row7 col9\" >-0.01</td>\n",
              "      <td id=\"T_6de11_row7_col10\" class=\"data row7 col10\" >-0.05</td>\n",
              "      <td id=\"T_6de11_row7_col11\" class=\"data row7 col11\" >-0.04</td>\n",
              "    </tr>\n",
              "    <tr>\n",
              "      <th id=\"T_6de11_level0_row8\" class=\"row_heading level0 row8\" >Loan_Amount_Term</th>\n",
              "      <td id=\"T_6de11_row8_col0\" class=\"data row8 col0\" >-0.08</td>\n",
              "      <td id=\"T_6de11_row8_col1\" class=\"data row8 col1\" >-0.10</td>\n",
              "      <td id=\"T_6de11_row8_col2\" class=\"data row8 col2\" >-0.10</td>\n",
              "      <td id=\"T_6de11_row8_col3\" class=\"data row8 col3\" >0.08</td>\n",
              "      <td id=\"T_6de11_row8_col4\" class=\"data row8 col4\" >-0.04</td>\n",
              "      <td id=\"T_6de11_row8_col5\" class=\"data row8 col5\" >-0.05</td>\n",
              "      <td id=\"T_6de11_row8_col6\" class=\"data row8 col6\" >-0.06</td>\n",
              "      <td id=\"T_6de11_row8_col7\" class=\"data row8 col7\" >0.04</td>\n",
              "      <td id=\"T_6de11_row8_col8\" class=\"data row8 col8\" >1.00</td>\n",
              "      <td id=\"T_6de11_row8_col9\" class=\"data row8 col9\" >0.00</td>\n",
              "      <td id=\"T_6de11_row8_col10\" class=\"data row8 col10\" >-0.08</td>\n",
              "      <td id=\"T_6de11_row8_col11\" class=\"data row8 col11\" >-0.02</td>\n",
              "    </tr>\n",
              "    <tr>\n",
              "      <th id=\"T_6de11_level0_row9\" class=\"row_heading level0 row9\" >Credit_History</th>\n",
              "      <td id=\"T_6de11_row9_col0\" class=\"data row9 col0\" >0.02</td>\n",
              "      <td id=\"T_6de11_row9_col1\" class=\"data row9 col1\" >0.00</td>\n",
              "      <td id=\"T_6de11_row9_col2\" class=\"data row9 col2\" >-0.05</td>\n",
              "      <td id=\"T_6de11_row9_col3\" class=\"data row9 col3\" >0.08</td>\n",
              "      <td id=\"T_6de11_row9_col4\" class=\"data row9 col4\" >0.00</td>\n",
              "      <td id=\"T_6de11_row9_col5\" class=\"data row9 col5\" >-0.01</td>\n",
              "      <td id=\"T_6de11_row9_col6\" class=\"data row9 col6\" >-0.00</td>\n",
              "      <td id=\"T_6de11_row9_col7\" class=\"data row9 col7\" >-0.01</td>\n",
              "      <td id=\"T_6de11_row9_col8\" class=\"data row9 col8\" >0.00</td>\n",
              "      <td id=\"T_6de11_row9_col9\" class=\"data row9 col9\" >1.00</td>\n",
              "      <td id=\"T_6de11_row9_col10\" class=\"data row9 col10\" >-0.00</td>\n",
              "      <td id=\"T_6de11_row9_col11\" class=\"data row9 col11\" >0.56</td>\n",
              "    </tr>\n",
              "    <tr>\n",
              "      <th id=\"T_6de11_level0_row10\" class=\"row_heading level0 row10\" >Property_Area</th>\n",
              "      <td id=\"T_6de11_row10_col0\" class=\"data row10 col0\" >-0.02</td>\n",
              "      <td id=\"T_6de11_row10_col1\" class=\"data row10 col1\" >0.00</td>\n",
              "      <td id=\"T_6de11_row10_col2\" class=\"data row10 col2\" >0.01</td>\n",
              "      <td id=\"T_6de11_row10_col3\" class=\"data row10 col3\" >0.07</td>\n",
              "      <td id=\"T_6de11_row10_col4\" class=\"data row10 col4\" >-0.03</td>\n",
              "      <td id=\"T_6de11_row10_col5\" class=\"data row10 col5\" >-0.01</td>\n",
              "      <td id=\"T_6de11_row10_col6\" class=\"data row10 col6\" >0.01</td>\n",
              "      <td id=\"T_6de11_row10_col7\" class=\"data row10 col7\" >-0.05</td>\n",
              "      <td id=\"T_6de11_row10_col8\" class=\"data row10 col8\" >-0.08</td>\n",
              "      <td id=\"T_6de11_row10_col9\" class=\"data row10 col9\" >-0.00</td>\n",
              "      <td id=\"T_6de11_row10_col10\" class=\"data row10 col10\" >1.00</td>\n",
              "      <td id=\"T_6de11_row10_col11\" class=\"data row10 col11\" >0.03</td>\n",
              "    </tr>\n",
              "    <tr>\n",
              "      <th id=\"T_6de11_level0_row11\" class=\"row_heading level0 row11\" >Loan_Status</th>\n",
              "      <td id=\"T_6de11_row11_col0\" class=\"data row11 col0\" >0.02</td>\n",
              "      <td id=\"T_6de11_row11_col1\" class=\"data row11 col1\" >0.09</td>\n",
              "      <td id=\"T_6de11_row11_col2\" class=\"data row11 col2\" >0.01</td>\n",
              "      <td id=\"T_6de11_row11_col3\" class=\"data row11 col3\" >0.09</td>\n",
              "      <td id=\"T_6de11_row11_col4\" class=\"data row11 col4\" >-0.00</td>\n",
              "      <td id=\"T_6de11_row11_col5\" class=\"data row11 col5\" >-0.00</td>\n",
              "      <td id=\"T_6de11_row11_col6\" class=\"data row11 col6\" >-0.06</td>\n",
              "      <td id=\"T_6de11_row11_col7\" class=\"data row11 col7\" >-0.04</td>\n",
              "      <td id=\"T_6de11_row11_col8\" class=\"data row11 col8\" >-0.02</td>\n",
              "      <td id=\"T_6de11_row11_col9\" class=\"data row11 col9\" >0.56</td>\n",
              "      <td id=\"T_6de11_row11_col10\" class=\"data row11 col10\" >0.03</td>\n",
              "      <td id=\"T_6de11_row11_col11\" class=\"data row11 col11\" >1.00</td>\n",
              "    </tr>\n",
              "  </tbody>\n",
              "</table>\n"
            ],
            "text/plain": [
              "<pandas.io.formats.style.Styler at 0x7fe6b7ed2110>"
            ]
          },
          "execution_count": 8,
          "metadata": {},
          "output_type": "execute_result"
        }
      ],
      "source": [
        "corr = data.corr()\n",
        "corr.style.background_gradient(cmap='coolwarm').format(precision=2)\n"
      ]
    },
    {
      "cell_type": "code",
      "execution_count": 9,
      "metadata": {
        "id": "VxJTLS_eG98F"
      },
      "outputs": [],
      "source": [
        "# Dropping weakly correlated columns\n",
        "\n",
        "data.drop(['Loan_ID'], axis=1, inplace=True)\n",
        "data.drop(['Dependents'], axis=1, inplace=True)\n",
        "data.drop(['Self_Employed'], axis=1, inplace=True)\n",
        "data.drop(['ApplicantIncome'], axis=1, inplace=True)\n"
      ]
    },
    {
      "cell_type": "code",
      "execution_count": 10,
      "metadata": {
        "colab": {
          "base_uri": "https://localhost:8080/"
        },
        "id": "YC1qkO2ghVEp",
        "outputId": "2ee7acad-3952-4784-9806-ac303a08d3e5"
      },
      "outputs": [
        {
          "data": {
            "text/plain": [
              "Gender               13\n",
              "Married               3\n",
              "Education             0\n",
              "CoapplicantIncome     0\n",
              "LoanAmount           22\n",
              "Loan_Amount_Term     14\n",
              "Credit_History       50\n",
              "Property_Area         0\n",
              "Loan_Status           0\n",
              "dtype: int64"
            ]
          },
          "execution_count": 10,
          "metadata": {},
          "output_type": "execute_result"
        }
      ],
      "source": [
        "data.isnull().sum()\n"
      ]
    },
    {
      "cell_type": "markdown",
      "metadata": {
        "id": "3k9463t6_5qW"
      },
      "source": [
        "Replacing Missing Values"
      ]
    },
    {
      "cell_type": "code",
      "execution_count": 11,
      "metadata": {
        "id": "NPEu7qVchWKt"
      },
      "outputs": [],
      "source": [
        "# .mode() -> return object and we need the frist val so .mode().iloc[0] or just mode()[0]\n",
        "data['Gender'].fillna(data.Gender.mode()[0], inplace=True)\n",
        "data['Married'].fillna(data.Married.mode()[0], inplace=True)\n",
        "data['LoanAmount'].fillna(data.LoanAmount.std(), inplace=True)\n",
        "data['Loan_Amount_Term'].fillna(data.Loan_Amount_Term.mode()[0], inplace=True)\n",
        "data['Credit_History'].fillna(data.Credit_History.mode()[0], inplace=True)\n"
      ]
    },
    {
      "cell_type": "code",
      "execution_count": 12,
      "metadata": {
        "colab": {
          "base_uri": "https://localhost:8080/"
        },
        "id": "zkZ8l8r7hgKE",
        "outputId": "eab3ac98-6013-4632-98ed-2e6c159dffef"
      },
      "outputs": [
        {
          "data": {
            "text/plain": [
              "Gender               0\n",
              "Married              0\n",
              "Education            0\n",
              "CoapplicantIncome    0\n",
              "LoanAmount           0\n",
              "Loan_Amount_Term     0\n",
              "Credit_History       0\n",
              "Property_Area        0\n",
              "Loan_Status          0\n",
              "dtype: int64"
            ]
          },
          "execution_count": 12,
          "metadata": {},
          "output_type": "execute_result"
        }
      ],
      "source": [
        "data.isnull().sum()\n"
      ]
    },
    {
      "cell_type": "markdown",
      "metadata": {
        "id": "qT7fi9IBvp7H"
      },
      "source": [
        "# Splitting Data"
      ]
    },
    {
      "cell_type": "code",
      "execution_count": 13,
      "metadata": {
        "id": "VvkcFBbjUf77"
      },
      "outputs": [],
      "source": [
        "X = data.drop('Loan_Status', axis=1)\n",
        "Y = data['Loan_Status']\n",
        "x_train, x_test, y_train, y_test = train_test_split(\n",
        "    X, Y, test_size=0.2, random_state=1)\n"
      ]
    },
    {
      "cell_type": "markdown",
      "metadata": {
        "id": "XK_qFprkewJI"
      },
      "source": [
        "# Data scaling"
      ]
    },
    {
      "cell_type": "code",
      "execution_count": 14,
      "metadata": {
        "colab": {
          "base_uri": "https://localhost:8080/",
          "height": 206
        },
        "id": "NY92XWSQUf4X",
        "outputId": "e1b84125-8c11-4651-f51b-2c5047241733"
      },
      "outputs": [
        {
          "data": {
            "text/html": [
              "<div>\n",
              "<style scoped>\n",
              "    .dataframe tbody tr th:only-of-type {\n",
              "        vertical-align: middle;\n",
              "    }\n",
              "\n",
              "    .dataframe tbody tr th {\n",
              "        vertical-align: top;\n",
              "    }\n",
              "\n",
              "    .dataframe thead th {\n",
              "        text-align: right;\n",
              "    }\n",
              "</style>\n",
              "<table border=\"1\" class=\"dataframe\">\n",
              "  <thead>\n",
              "    <tr style=\"text-align: right;\">\n",
              "      <th></th>\n",
              "      <th>Gender</th>\n",
              "      <th>Married</th>\n",
              "      <th>Education</th>\n",
              "      <th>CoapplicantIncome</th>\n",
              "      <th>LoanAmount</th>\n",
              "      <th>Loan_Amount_Term</th>\n",
              "      <th>Credit_History</th>\n",
              "      <th>Property_Area</th>\n",
              "    </tr>\n",
              "  </thead>\n",
              "  <tbody>\n",
              "    <tr>\n",
              "      <th>0</th>\n",
              "      <td>1.0</td>\n",
              "      <td>1.0</td>\n",
              "      <td>1.0</td>\n",
              "      <td>0.000000</td>\n",
              "      <td>0.170767</td>\n",
              "      <td>0.74359</td>\n",
              "      <td>0.0</td>\n",
              "      <td>0.5</td>\n",
              "    </tr>\n",
              "    <tr>\n",
              "      <th>1</th>\n",
              "      <td>1.0</td>\n",
              "      <td>0.0</td>\n",
              "      <td>1.0</td>\n",
              "      <td>0.000000</td>\n",
              "      <td>0.125904</td>\n",
              "      <td>0.74359</td>\n",
              "      <td>1.0</td>\n",
              "      <td>1.0</td>\n",
              "    </tr>\n",
              "    <tr>\n",
              "      <th>2</th>\n",
              "      <td>0.0</td>\n",
              "      <td>1.0</td>\n",
              "      <td>1.0</td>\n",
              "      <td>0.058824</td>\n",
              "      <td>0.146165</td>\n",
              "      <td>0.74359</td>\n",
              "      <td>1.0</td>\n",
              "      <td>1.0</td>\n",
              "    </tr>\n",
              "    <tr>\n",
              "      <th>3</th>\n",
              "      <td>0.0</td>\n",
              "      <td>0.0</td>\n",
              "      <td>1.0</td>\n",
              "      <td>0.000000</td>\n",
              "      <td>0.089725</td>\n",
              "      <td>0.74359</td>\n",
              "      <td>1.0</td>\n",
              "      <td>0.0</td>\n",
              "    </tr>\n",
              "    <tr>\n",
              "      <th>4</th>\n",
              "      <td>0.0</td>\n",
              "      <td>0.0</td>\n",
              "      <td>1.0</td>\n",
              "      <td>0.000000</td>\n",
              "      <td>0.183792</td>\n",
              "      <td>0.74359</td>\n",
              "      <td>0.0</td>\n",
              "      <td>0.5</td>\n",
              "    </tr>\n",
              "  </tbody>\n",
              "</table>\n",
              "</div>"
            ],
            "text/plain": [
              "   Gender  Married  Education  CoapplicantIncome  LoanAmount  \\\n",
              "0     1.0      1.0        1.0           0.000000    0.170767   \n",
              "1     1.0      0.0        1.0           0.000000    0.125904   \n",
              "2     0.0      1.0        1.0           0.058824    0.146165   \n",
              "3     0.0      0.0        1.0           0.000000    0.089725   \n",
              "4     0.0      0.0        1.0           0.000000    0.183792   \n",
              "\n",
              "   Loan_Amount_Term  Credit_History  Property_Area  \n",
              "0           0.74359             0.0            0.5  \n",
              "1           0.74359             1.0            1.0  \n",
              "2           0.74359             1.0            1.0  \n",
              "3           0.74359             1.0            0.0  \n",
              "4           0.74359             0.0            0.5  "
            ]
          },
          "execution_count": 14,
          "metadata": {},
          "output_type": "execute_result"
        }
      ],
      "source": [
        "scaler = MinMaxScaler()\n",
        "x_train = pd.DataFrame(scaler.fit_transform(x_train), columns=x_train.columns)\n",
        "x_test = pd.DataFrame(scaler.fit_transform(x_test), columns=x_test.columns)\n",
        "x_train.head()\n"
      ]
    },
    {
      "cell_type": "markdown",
      "metadata": {
        "id": "drJwOsF7v1jK"
      },
      "source": [
        "# Principal Component Analysis"
      ]
    },
    {
      "cell_type": "code",
      "execution_count": 15,
      "metadata": {
        "id": "hIZ1Jbvpv2IC"
      },
      "outputs": [],
      "source": [
        "pca = PCA(n_components=3)\n",
        "\n",
        "X_train = pca.fit_transform(x_train)\n",
        "X_test = pca.fit_transform(x_test)\n",
        "\n",
        "explained_variance = pca.explained_variance_ratio_\n"
      ]
    },
    {
      "cell_type": "markdown",
      "metadata": {
        "id": "QU6uUP2qe9D2"
      },
      "source": [
        "# Logistic Regression\n",
        "(with PCA)"
      ]
    },
    {
      "cell_type": "code",
      "execution_count": 16,
      "metadata": {
        "id": "QQ-nB6WrUqAK"
      },
      "outputs": [],
      "source": [
        "lr = LogisticRegression(solver='liblinear', random_state=1)\n",
        "lr = lr.fit(X_train, y_train)\n",
        "y_pred = lr.predict(X_test)\n"
      ]
    },
    {
      "cell_type": "code",
      "execution_count": 17,
      "metadata": {
        "colab": {
          "base_uri": "https://localhost:8080/"
        },
        "id": "8q5YyKvWUpwj",
        "outputId": "01a9e2b5-b0fc-4481-abe2-f6be2117c6c7"
      },
      "outputs": [
        {
          "name": "stdout",
          "output_type": "stream",
          "text": [
            "Confusion Matrix: \n",
            " [[ 4 35]\n",
            " [ 0 84]]\n",
            "Classification Report: \n",
            "               precision    recall  f1-score   support\n",
            "\n",
            "           0       1.00      0.10      0.19        39\n",
            "           1       0.71      1.00      0.83        84\n",
            "\n",
            "    accuracy                           0.72       123\n",
            "   macro avg       0.85      0.55      0.51       123\n",
            "weighted avg       0.80      0.72      0.62       123\n",
            "\n"
          ]
        }
      ],
      "source": [
        "cm = confusion_matrix(y_test, y_pred)\n",
        "print(\"Confusion Matrix: \\n\", cm)\n",
        "print(\"Classification Report: \\n\", classification_report(y_test, y_pred))\n"
      ]
    },
    {
      "cell_type": "code",
      "execution_count": 18,
      "metadata": {
        "colab": {
          "base_uri": "https://localhost:8080/"
        },
        "id": "4zEupNVwUptH",
        "outputId": "61c703e2-3344-43ab-be77-4b90e7324c57"
      },
      "outputs": [
        {
          "name": "stdout",
          "output_type": "stream",
          "text": [
            "Accuracy: 0.7154471544715447\n",
            "\n",
            "Mean Squared Error:  0.2845528455284553\n"
          ]
        }
      ],
      "source": [
        "print(\"Accuracy:\", lr.score(X_test, y_test))\n",
        "print(\"\\nMean Squared Error: \", mean_squared_error(y_test, y_pred))\n"
      ]
    },
    {
      "cell_type": "markdown",
      "metadata": {
        "id": "b-CVgXv_wLDP"
      },
      "source": [
        "# Logistic Regression\n",
        "(without PCA)"
      ]
    },
    {
      "cell_type": "code",
      "execution_count": 19,
      "metadata": {
        "colab": {
          "base_uri": "https://localhost:8080/"
        },
        "id": "Pt0qThLKwZw3",
        "outputId": "edc49d9a-2a95-4593-d671-cdde39106bc6"
      },
      "outputs": [
        {
          "name": "stdout",
          "output_type": "stream",
          "text": [
            "Accuracy: 0.8048780487804879\n",
            "\n",
            "Mean Squared Error:  0.1951219512195122\n"
          ]
        }
      ],
      "source": [
        "lr = LogisticRegression(solver='liblinear', random_state=1)\n",
        "lr = lr.fit(x_train, y_train)\n",
        "y_pred = lr.predict(x_test)\n",
        "print(\"Accuracy:\", lr.score(x_test, y_test))\n",
        "print(\"\\nMean Squared Error: \", mean_squared_error(y_test, y_pred))\n"
      ]
    },
    {
      "cell_type": "markdown",
      "metadata": {
        "id": "H8PZAszwfEnA"
      },
      "source": [
        "# SVM"
      ]
    },
    {
      "cell_type": "code",
      "execution_count": 20,
      "metadata": {
        "id": "Uj3zV4NMUwm6"
      },
      "outputs": [],
      "source": [
        "classifier = svm.LinearSVC()\n",
        "classifier.fit(x_train, y_train)\n",
        "y_pred = classifier.predict(x_test)\n"
      ]
    },
    {
      "cell_type": "code",
      "execution_count": 21,
      "metadata": {
        "colab": {
          "base_uri": "https://localhost:8080/"
        },
        "id": "Wt65uDGhUwbT",
        "outputId": "4c4336bb-f789-4a62-ff94-450a8174e5ce"
      },
      "outputs": [
        {
          "name": "stdout",
          "output_type": "stream",
          "text": [
            "Confusion Matrix: \n",
            " [[16 23]\n",
            " [ 2 82]]\n",
            "Classification Report: \n",
            "               precision    recall  f1-score   support\n",
            "\n",
            "           0       0.89      0.41      0.56        39\n",
            "           1       0.78      0.98      0.87        84\n",
            "\n",
            "    accuracy                           0.80       123\n",
            "   macro avg       0.83      0.69      0.71       123\n",
            "weighted avg       0.82      0.80      0.77       123\n",
            "\n"
          ]
        }
      ],
      "source": [
        "cm = confusion_matrix(y_test, y_pred)\n",
        "print(\"Confusion Matrix: \\n\", cm)\n",
        "print(\"Classification Report: \\n\", classification_report(y_test, y_pred))\n"
      ]
    },
    {
      "cell_type": "code",
      "execution_count": 22,
      "metadata": {
        "colab": {
          "base_uri": "https://localhost:8080/"
        },
        "id": "Hb-cIWRjUwUc",
        "outputId": "9d4db342-7de6-4aa9-cb3b-27a6c0986e40"
      },
      "outputs": [
        {
          "name": "stdout",
          "output_type": "stream",
          "text": [
            "Accuracy: 0.7967479674796748\n",
            "\n",
            "Mean Squared Error:  0.2032520325203252\n"
          ]
        }
      ],
      "source": [
        "print(\"Accuracy:\", classifier.score(x_test, y_test))\n",
        "print(\"\\nMean Squared Error: \", mean_squared_error(y_test, y_pred))\n"
      ]
    },
    {
      "cell_type": "markdown",
      "metadata": {
        "id": "3Uu53MhafJJE"
      },
      "source": [
        "# Decision Tree"
      ]
    },
    {
      "cell_type": "code",
      "execution_count": 23,
      "metadata": {
        "id": "LCTDg9HhVBa0"
      },
      "outputs": [],
      "source": [
        "clf = DecisionTreeClassifier(criterion=\"entropy\", max_depth=4)\n",
        "clf.fit(x_train, y_train)\n",
        "y_pred = clf.predict(x_test)\n"
      ]
    },
    {
      "cell_type": "code",
      "execution_count": 24,
      "metadata": {
        "colab": {
          "base_uri": "https://localhost:8080/"
        },
        "id": "jmgaOzw5VBVb",
        "outputId": "3e971048-f9ca-4985-af6f-5ce97879b8c3"
      },
      "outputs": [
        {
          "name": "stdout",
          "output_type": "stream",
          "text": [
            "Confusion Matrix: \n",
            " [[18 21]\n",
            " [ 3 81]]\n",
            "Classification Report: \n",
            "               precision    recall  f1-score   support\n",
            "\n",
            "           0       0.86      0.46      0.60        39\n",
            "           1       0.79      0.96      0.87        84\n",
            "\n",
            "    accuracy                           0.80       123\n",
            "   macro avg       0.83      0.71      0.74       123\n",
            "weighted avg       0.81      0.80      0.79       123\n",
            "\n"
          ]
        }
      ],
      "source": [
        "cm = confusion_matrix(y_test, y_pred)\n",
        "print(\"Confusion Matrix: \\n\", cm)\n",
        "print(\"Classification Report: \\n\", classification_report(y_test, y_pred))\n"
      ]
    },
    {
      "cell_type": "code",
      "execution_count": 25,
      "metadata": {
        "colab": {
          "base_uri": "https://localhost:8080/"
        },
        "id": "29--YOEuVBQE",
        "outputId": "6dbdb174-a588-4eab-e94a-8c16e28172e3"
      },
      "outputs": [
        {
          "name": "stdout",
          "output_type": "stream",
          "text": [
            "Accuracy: 0.8048780487804879\n",
            "\n",
            "Mean Squared Error:  0.1951219512195122\n"
          ]
        }
      ],
      "source": [
        "print(\"Accuracy:\", clf.score(x_test, y_test))\n",
        "print(\"\\nMean Squared Error: \", mean_squared_error(y_test, y_pred))\n"
      ]
    },
    {
      "cell_type": "code",
      "execution_count": 26,
      "metadata": {
        "colab": {
          "base_uri": "https://localhost:8080/",
          "height": 575
        },
        "id": "NCK15iB3VGRi",
        "outputId": "6115162b-5086-462b-9eae-3b1be1b6da74"
      },
      "outputs": [
        {
          "data": {
            "image/png": "[encoded data removed]",
            "text/plain": [
              "<Figure size 1800x720 with 1 Axes>"
            ]
          },
          "metadata": {
            "needs_background": "light"
          },
          "output_type": "display_data"
        }
      ],
      "source": [
        "plt.figure(figsize=(25, 10))\n",
        "a = plot_tree(clf,\n",
        "              feature_names=x_train.columns,\n",
        "              filled=True,\n",
        "              rounded=True,\n",
        "              fontsize=14)\n"
      ]
    },
    {
      "cell_type": "markdown",
      "metadata": {
        "id": "a1r7tgM_fQM4"
      },
      "source": [
        "# Random Forest"
      ]
    },
    {
      "cell_type": "code",
      "execution_count": 27,
      "metadata": {
        "id": "B1O18_-iVGOH"
      },
      "outputs": [],
      "source": [
        "clf = RandomForestClassifier(n_estimators=2000, random_state=1, max_depth=4)\n",
        "clf.fit(x_train, y_train)\n",
        "y_pred = clf.predict(x_test)\n"
      ]
    },
    {
      "cell_type": "code",
      "execution_count": 28,
      "metadata": {
        "colab": {
          "base_uri": "https://localhost:8080/"
        },
        "id": "3EVKu70gVGJS",
        "outputId": "0610dca4-f1a0-416c-dbdc-5488461bd683"
      },
      "outputs": [
        {
          "name": "stdout",
          "output_type": "stream",
          "text": [
            "Accuracy: 0.8130081300813008\n",
            "\n",
            "Mean Squared Error:  0.18699186991869918\n"
          ]
        }
      ],
      "source": [
        "print(\"Accuracy:\", clf.score(x_test, y_test))\n",
        "print(\"\\nMean Squared Error: \", mean_squared_error(y_test, y_pred))\n"
      ]
    },
    {
      "cell_type": "markdown",
      "metadata": {
        "id": "LYRNpMGRfW3G"
      },
      "source": [
        "# Naive bayes"
      ]
    },
    {
      "cell_type": "code",
      "execution_count": 29,
      "metadata": {
        "id": "6nGTgHlmN5Ur"
      },
      "outputs": [],
      "source": [
        "clf = BernoulliNB()\n",
        "clf.fit(x_train, y_train)\n",
        "y_pred = clf.predict(x_test)\n"
      ]
    },
    {
      "cell_type": "code",
      "execution_count": 30,
      "metadata": {
        "colab": {
          "base_uri": "https://localhost:8080/"
        },
        "id": "zN4fHqGVN5GR",
        "outputId": "5af3f62a-4622-4fab-a8fb-1423d9764e5a"
      },
      "outputs": [
        {
          "name": "stdout",
          "output_type": "stream",
          "text": [
            "Accuracy: 0.8048780487804879\n",
            "\n",
            "Mean Squared Error:  0.1951219512195122\n"
          ]
        }
      ],
      "source": [
        "print(\"Accuracy:\", clf.score(x_test, y_test))\n",
        "print(\"\\nMean Squared Error: \", mean_squared_error(y_test, y_pred))\n"
      ]
    },
    {
      "cell_type": "markdown",
      "metadata": {
        "id": "AXWYd9S5fn0j"
      },
      "source": [
        "# KNN"
      ]
    },
    {
      "cell_type": "code",
      "execution_count": 31,
      "metadata": {
        "id": "fpaGvqpwN5Cy"
      },
      "outputs": [],
      "source": [
        "knn = KNeighborsClassifier(n_neighbors=7)\n",
        "knn.fit(x_train, y_train)\n",
        "y_pred = knn.predict(x_test)\n"
      ]
    },
    {
      "cell_type": "code",
      "execution_count": 32,
      "metadata": {
        "colab": {
          "base_uri": "https://localhost:8080/"
        },
        "id": "D7_QZvwKOBah",
        "outputId": "4ede80b4-fe29-4abd-dd54-f5cbf41d844f"
      },
      "outputs": [
        {
          "name": "stdout",
          "output_type": "stream",
          "text": [
            "Accuracy: 0.7967479674796748\n",
            "\n",
            "Mean Squared Error:  0.2032520325203252\n"
          ]
        }
      ],
      "source": [
        "print(\"Accuracy:\", knn.score(x_test, y_test))\n",
        "print(\"\\nMean Squared Error: \", mean_squared_error(y_test, y_pred))\n"
      ]
    }
  ],
  "metadata": {
    "colab": {
      "collapsed_sections": [],
      "name": "loan-prediction.ipynb",
      "provenance": []
    },
    "interpreter": {
      "hash": "e7370f93d1d0cde622a1f8e1c04877d8463912d04d973331ad4851f04de6915a"
    },
    "kernelspec": {
      "display_name": "Python 3.10.4 64-bit",
      "language": "python",
      "name": "python3"
    },
    "language_info": {
      "codemirror_mode": {
        "name": "ipython",
        "version": 3
      },
      "file_extension": ".py",
      "mimetype": "text/x-python",
      "name": "python",
      "nbconvert_exporter": "python",
      "pygments_lexer": "ipython3",
      "version": "3.10.4"
    }
  },
  "nbformat": 4,
  "nbformat_minor": 0
}
